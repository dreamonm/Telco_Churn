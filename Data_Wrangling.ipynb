{
 "cells": [
  {
   "cell_type": "markdown",
   "id": "f34e29ac",
   "metadata": {},
   "source": [
    "# Telco Churn Prediction\n"
   ]
  },
  {
   "cell_type": "markdown",
   "id": "cb3eb85f",
   "metadata": {},
   "source": [
    "The Telco Churn Prediction Project aims to identify the factors that cause customers to stop using the telco service, also known as customer churn. To achieve this, the project analyses a large dataset of 7043 customer information, including demographics and service usage patterns. \n",
    "\n",
    "The ultimate goal is to create predictive models that can forecast customer behavior and predict which customers are at risk of churning. The project requires a thorough exploration of the Telco customer dataset to gain insights into the characteristics and behaviors associated with churn. This involves identifying patterns, understanding correlations between variables, and conducting a comprehensive analysis of features."
   ]
  },
  {
   "cell_type": "markdown",
   "id": "6224a0f1",
   "metadata": {},
   "source": [
    "## Import Libraries and Load Data "
   ]
  },
  {
   "cell_type": "code",
   "execution_count": 1,
   "id": "d1cb6894",
   "metadata": {},
   "outputs": [],
   "source": [
    "import pandas as pd\n",
    "import matplotlib.pyplot as plt\n",
    "import seaborn as sns"
   ]
  },
  {
   "cell_type": "code",
   "execution_count": 2,
   "id": "ed2bbd39",
   "metadata": {},
   "outputs": [],
   "source": [
    "Telco_customer_churn_status =  pd.read_excel('Telco_customer_churn_status.xlsx')\n",
    "Telco_customer_churn_services =  pd.read_excel('Telco_customer_churn_services.xlsx')\n",
    "Telco_customer_churn_population =  pd.read_excel('Telco_customer_churn_population.xlsx')\n",
    "Telco_customer_churn_location =  pd.read_excel('Telco_customer_churn_location.xlsx')\n",
    "Telco_customer_churn_demographics =  pd.read_excel('Telco_customer_churn_demographics.xlsx')"
   ]
  },
  {
   "cell_type": "markdown",
   "id": "bf73559f",
   "metadata": {},
   "source": [
    "This data is part of the Base Samples that are available in IBM Cognos Analytics.\n",
    "Downloaded from: \n",
    "[Telecommunications Industry Sample Data](https://accelerator.ca.analytics.ibm.com/bi/?perspective=authoring&pathRef=.public_folders%2FIBM%2BAccelerator%2BCatalog%2FContent%2FDAT00148&id=i9710CF25EF75468D95FFFC7D57D45204&objRef=i9710CF25EF75468D95FFFC7D57D45204&action=run&format=HTML&cmPropStr=%7B%22id%22%3A%22i9710CF25EF75468D95FFFC7D57D45204%22%2C%22type%22%3A%22reportView%22%2C%22defaultName%22%3A%22DAT00148%22%2C%22permissions%22%3A%5B%22execute%22%2C%22read%22%2C%22traverse%22%5D%7D)\n",
    "\n",
    "\n",
    "The dataset contains information on a fictional California-based telecommunications company that provided internet and home phone services to 7,043 customers during Q3. It consists of five datasets containing information about demographics, location, population, services, and status.\n",
    "\n",
    "\n",
    "| Dataframe         | Columns              |\n",
    "|:---------------------|:--------------------------|\n",
    "| Telco_customer_churn_status.xlsx              | Status ID, Customer ID, Count, Quarter, Satisfaction Score, Customer Status, Churn Label, Churn Value, Churn Score, CLTV, Churn Category, Churn Reason     |\n",
    "| Telco_customer_churn_services.xlsx             | Service ID, Customer ID, Count, Quarter, Referred a Friend, Number of Referrals, Tenure in Months, Offer, Phone Service, Avg Monthly Long Distance Charges, Multiple Lines, Internet Service, Internet Type, Avg Monthly GB Download, Online Security, Online Backup, Device Protection Plan, Premium Tech Support, Streaming TV, Streaming Movies, Streaming Music, Unlimited Data, Contract, Paperless Billing, Payment Method, Monthly Charge, Total Charges, Total Refunds, Total Extra Data Charges, Total Long Distance Charges, Total Revenue |\n",
    "| Telco_customer_churn_population.xlsx              | ID, Zip Code, Population    |\n",
    "| Telco_customer_churn_location.xlsx              | Location ID, Customer ID, Count, Country, State, City, Zip Code, Lat Long, Latitude, Longitude    |\n",
    "| Telco_customer_churn_demographics.xlsx             | Customer ID, Count, Gender, Age, Under 30, Senior Citizen, Married, Dependents, Number of Dependents    |"
   ]
  },
  {
   "cell_type": "code",
   "execution_count": 3,
   "id": "eb3d9022",
   "metadata": {
    "scrolled": true
   },
   "outputs": [
    {
     "data": {
      "text/html": [
       "<div>\n",
       "<style scoped>\n",
       "    .dataframe tbody tr th:only-of-type {\n",
       "        vertical-align: middle;\n",
       "    }\n",
       "\n",
       "    .dataframe tbody tr th {\n",
       "        vertical-align: top;\n",
       "    }\n",
       "\n",
       "    .dataframe thead th {\n",
       "        text-align: right;\n",
       "    }\n",
       "</style>\n",
       "<table border=\"1\" class=\"dataframe\">\n",
       "  <thead>\n",
       "    <tr style=\"text-align: right;\">\n",
       "      <th></th>\n",
       "      <th>Status ID</th>\n",
       "      <th>Customer ID</th>\n",
       "      <th>Count</th>\n",
       "      <th>Quarter</th>\n",
       "      <th>Satisfaction Score</th>\n",
       "      <th>Customer Status</th>\n",
       "      <th>Churn Label</th>\n",
       "      <th>Churn Value</th>\n",
       "      <th>Churn Score</th>\n",
       "      <th>CLTV</th>\n",
       "      <th>Churn Category</th>\n",
       "      <th>Churn Reason</th>\n",
       "    </tr>\n",
       "  </thead>\n",
       "  <tbody>\n",
       "    <tr>\n",
       "      <th>0</th>\n",
       "      <td>SWSORB1252</td>\n",
       "      <td>8779-QRDMV</td>\n",
       "      <td>1</td>\n",
       "      <td>Q3</td>\n",
       "      <td>3</td>\n",
       "      <td>Churned</td>\n",
       "      <td>Yes</td>\n",
       "      <td>1</td>\n",
       "      <td>91</td>\n",
       "      <td>5433</td>\n",
       "      <td>Competitor</td>\n",
       "      <td>Competitor offered more data</td>\n",
       "    </tr>\n",
       "    <tr>\n",
       "      <th>1</th>\n",
       "      <td>SNAEQA8572</td>\n",
       "      <td>7495-OOKFY</td>\n",
       "      <td>1</td>\n",
       "      <td>Q3</td>\n",
       "      <td>3</td>\n",
       "      <td>Churned</td>\n",
       "      <td>Yes</td>\n",
       "      <td>1</td>\n",
       "      <td>69</td>\n",
       "      <td>5302</td>\n",
       "      <td>Competitor</td>\n",
       "      <td>Competitor made better offer</td>\n",
       "    </tr>\n",
       "    <tr>\n",
       "      <th>2</th>\n",
       "      <td>LMBQNN3714</td>\n",
       "      <td>1658-BYGOY</td>\n",
       "      <td>1</td>\n",
       "      <td>Q3</td>\n",
       "      <td>2</td>\n",
       "      <td>Churned</td>\n",
       "      <td>Yes</td>\n",
       "      <td>1</td>\n",
       "      <td>81</td>\n",
       "      <td>3179</td>\n",
       "      <td>Competitor</td>\n",
       "      <td>Competitor made better offer</td>\n",
       "    </tr>\n",
       "    <tr>\n",
       "      <th>3</th>\n",
       "      <td>VRZYZI9978</td>\n",
       "      <td>4598-XLKNJ</td>\n",
       "      <td>1</td>\n",
       "      <td>Q3</td>\n",
       "      <td>2</td>\n",
       "      <td>Churned</td>\n",
       "      <td>Yes</td>\n",
       "      <td>1</td>\n",
       "      <td>88</td>\n",
       "      <td>5337</td>\n",
       "      <td>Dissatisfaction</td>\n",
       "      <td>Limited range of services</td>\n",
       "    </tr>\n",
       "    <tr>\n",
       "      <th>4</th>\n",
       "      <td>FDNAKX1688</td>\n",
       "      <td>4846-WHAFZ</td>\n",
       "      <td>1</td>\n",
       "      <td>Q3</td>\n",
       "      <td>2</td>\n",
       "      <td>Churned</td>\n",
       "      <td>Yes</td>\n",
       "      <td>1</td>\n",
       "      <td>67</td>\n",
       "      <td>2793</td>\n",
       "      <td>Price</td>\n",
       "      <td>Extra data charges</td>\n",
       "    </tr>\n",
       "  </tbody>\n",
       "</table>\n",
       "</div>"
      ],
      "text/plain": [
       "    Status ID Customer ID  Count Quarter  Satisfaction Score Customer Status  \\\n",
       "0  SWSORB1252  8779-QRDMV      1      Q3                   3         Churned   \n",
       "1  SNAEQA8572  7495-OOKFY      1      Q3                   3         Churned   \n",
       "2  LMBQNN3714  1658-BYGOY      1      Q3                   2         Churned   \n",
       "3  VRZYZI9978  4598-XLKNJ      1      Q3                   2         Churned   \n",
       "4  FDNAKX1688  4846-WHAFZ      1      Q3                   2         Churned   \n",
       "\n",
       "  Churn Label  Churn Value  Churn Score  CLTV   Churn Category  \\\n",
       "0         Yes            1           91  5433       Competitor   \n",
       "1         Yes            1           69  5302       Competitor   \n",
       "2         Yes            1           81  3179       Competitor   \n",
       "3         Yes            1           88  5337  Dissatisfaction   \n",
       "4         Yes            1           67  2793            Price   \n",
       "\n",
       "                   Churn Reason  \n",
       "0  Competitor offered more data  \n",
       "1  Competitor made better offer  \n",
       "2  Competitor made better offer  \n",
       "3     Limited range of services  \n",
       "4            Extra data charges  "
      ]
     },
     "execution_count": 3,
     "metadata": {},
     "output_type": "execute_result"
    }
   ],
   "source": [
    "Telco_customer_churn_status.head()"
   ]
  },
  {
   "cell_type": "code",
   "execution_count": 4,
   "id": "fcb08b08",
   "metadata": {},
   "outputs": [
    {
     "data": {
      "text/html": [
       "<div>\n",
       "<style scoped>\n",
       "    .dataframe tbody tr th:only-of-type {\n",
       "        vertical-align: middle;\n",
       "    }\n",
       "\n",
       "    .dataframe tbody tr th {\n",
       "        vertical-align: top;\n",
       "    }\n",
       "\n",
       "    .dataframe thead th {\n",
       "        text-align: right;\n",
       "    }\n",
       "</style>\n",
       "<table border=\"1\" class=\"dataframe\">\n",
       "  <thead>\n",
       "    <tr style=\"text-align: right;\">\n",
       "      <th></th>\n",
       "      <th>Service ID</th>\n",
       "      <th>Customer ID</th>\n",
       "      <th>Count</th>\n",
       "      <th>Quarter</th>\n",
       "      <th>Referred a Friend</th>\n",
       "      <th>Number of Referrals</th>\n",
       "      <th>Tenure in Months</th>\n",
       "      <th>Offer</th>\n",
       "      <th>Phone Service</th>\n",
       "      <th>Avg Monthly Long Distance Charges</th>\n",
       "      <th>...</th>\n",
       "      <th>Unlimited Data</th>\n",
       "      <th>Contract</th>\n",
       "      <th>Paperless Billing</th>\n",
       "      <th>Payment Method</th>\n",
       "      <th>Monthly Charge</th>\n",
       "      <th>Total Charges</th>\n",
       "      <th>Total Refunds</th>\n",
       "      <th>Total Extra Data Charges</th>\n",
       "      <th>Total Long Distance Charges</th>\n",
       "      <th>Total Revenue</th>\n",
       "    </tr>\n",
       "  </thead>\n",
       "  <tbody>\n",
       "    <tr>\n",
       "      <th>0</th>\n",
       "      <td>IJKDQVSWH3522</td>\n",
       "      <td>8779-QRDMV</td>\n",
       "      <td>1</td>\n",
       "      <td>Q3</td>\n",
       "      <td>No</td>\n",
       "      <td>0</td>\n",
       "      <td>1</td>\n",
       "      <td>NaN</td>\n",
       "      <td>No</td>\n",
       "      <td>0.00</td>\n",
       "      <td>...</td>\n",
       "      <td>No</td>\n",
       "      <td>Month-to-Month</td>\n",
       "      <td>Yes</td>\n",
       "      <td>Bank Withdrawal</td>\n",
       "      <td>39.65</td>\n",
       "      <td>39.65</td>\n",
       "      <td>0.00</td>\n",
       "      <td>20</td>\n",
       "      <td>0.00</td>\n",
       "      <td>59.65</td>\n",
       "    </tr>\n",
       "    <tr>\n",
       "      <th>1</th>\n",
       "      <td>BFKMZJAIE2285</td>\n",
       "      <td>7495-OOKFY</td>\n",
       "      <td>1</td>\n",
       "      <td>Q3</td>\n",
       "      <td>Yes</td>\n",
       "      <td>1</td>\n",
       "      <td>8</td>\n",
       "      <td>Offer E</td>\n",
       "      <td>Yes</td>\n",
       "      <td>48.85</td>\n",
       "      <td>...</td>\n",
       "      <td>Yes</td>\n",
       "      <td>Month-to-Month</td>\n",
       "      <td>Yes</td>\n",
       "      <td>Credit Card</td>\n",
       "      <td>80.65</td>\n",
       "      <td>633.30</td>\n",
       "      <td>0.00</td>\n",
       "      <td>0</td>\n",
       "      <td>390.80</td>\n",
       "      <td>1024.10</td>\n",
       "    </tr>\n",
       "    <tr>\n",
       "      <th>2</th>\n",
       "      <td>EIMVJQBMT7187</td>\n",
       "      <td>1658-BYGOY</td>\n",
       "      <td>1</td>\n",
       "      <td>Q3</td>\n",
       "      <td>No</td>\n",
       "      <td>0</td>\n",
       "      <td>18</td>\n",
       "      <td>Offer D</td>\n",
       "      <td>Yes</td>\n",
       "      <td>11.33</td>\n",
       "      <td>...</td>\n",
       "      <td>Yes</td>\n",
       "      <td>Month-to-Month</td>\n",
       "      <td>Yes</td>\n",
       "      <td>Bank Withdrawal</td>\n",
       "      <td>95.45</td>\n",
       "      <td>1752.55</td>\n",
       "      <td>45.61</td>\n",
       "      <td>0</td>\n",
       "      <td>203.94</td>\n",
       "      <td>1910.88</td>\n",
       "    </tr>\n",
       "    <tr>\n",
       "      <th>3</th>\n",
       "      <td>EROZQXDUU4979</td>\n",
       "      <td>4598-XLKNJ</td>\n",
       "      <td>1</td>\n",
       "      <td>Q3</td>\n",
       "      <td>Yes</td>\n",
       "      <td>1</td>\n",
       "      <td>25</td>\n",
       "      <td>Offer C</td>\n",
       "      <td>Yes</td>\n",
       "      <td>19.76</td>\n",
       "      <td>...</td>\n",
       "      <td>Yes</td>\n",
       "      <td>Month-to-Month</td>\n",
       "      <td>Yes</td>\n",
       "      <td>Bank Withdrawal</td>\n",
       "      <td>98.50</td>\n",
       "      <td>2514.50</td>\n",
       "      <td>13.43</td>\n",
       "      <td>0</td>\n",
       "      <td>494.00</td>\n",
       "      <td>2995.07</td>\n",
       "    </tr>\n",
       "    <tr>\n",
       "      <th>4</th>\n",
       "      <td>GEEYSJUHY6991</td>\n",
       "      <td>4846-WHAFZ</td>\n",
       "      <td>1</td>\n",
       "      <td>Q3</td>\n",
       "      <td>Yes</td>\n",
       "      <td>1</td>\n",
       "      <td>37</td>\n",
       "      <td>Offer C</td>\n",
       "      <td>Yes</td>\n",
       "      <td>6.33</td>\n",
       "      <td>...</td>\n",
       "      <td>Yes</td>\n",
       "      <td>Month-to-Month</td>\n",
       "      <td>Yes</td>\n",
       "      <td>Bank Withdrawal</td>\n",
       "      <td>76.50</td>\n",
       "      <td>2868.15</td>\n",
       "      <td>0.00</td>\n",
       "      <td>0</td>\n",
       "      <td>234.21</td>\n",
       "      <td>3102.36</td>\n",
       "    </tr>\n",
       "  </tbody>\n",
       "</table>\n",
       "<p>5 rows × 31 columns</p>\n",
       "</div>"
      ],
      "text/plain": [
       "      Service ID Customer ID  Count Quarter Referred a Friend  \\\n",
       "0  IJKDQVSWH3522  8779-QRDMV      1      Q3                No   \n",
       "1  BFKMZJAIE2285  7495-OOKFY      1      Q3               Yes   \n",
       "2  EIMVJQBMT7187  1658-BYGOY      1      Q3                No   \n",
       "3  EROZQXDUU4979  4598-XLKNJ      1      Q3               Yes   \n",
       "4  GEEYSJUHY6991  4846-WHAFZ      1      Q3               Yes   \n",
       "\n",
       "   Number of Referrals  Tenure in Months    Offer Phone Service  \\\n",
       "0                    0                 1      NaN            No   \n",
       "1                    1                 8  Offer E           Yes   \n",
       "2                    0                18  Offer D           Yes   \n",
       "3                    1                25  Offer C           Yes   \n",
       "4                    1                37  Offer C           Yes   \n",
       "\n",
       "   Avg Monthly Long Distance Charges  ... Unlimited Data        Contract  \\\n",
       "0                               0.00  ...             No  Month-to-Month   \n",
       "1                              48.85  ...            Yes  Month-to-Month   \n",
       "2                              11.33  ...            Yes  Month-to-Month   \n",
       "3                              19.76  ...            Yes  Month-to-Month   \n",
       "4                               6.33  ...            Yes  Month-to-Month   \n",
       "\n",
       "  Paperless Billing   Payment Method Monthly Charge Total Charges  \\\n",
       "0               Yes  Bank Withdrawal          39.65         39.65   \n",
       "1               Yes      Credit Card          80.65        633.30   \n",
       "2               Yes  Bank Withdrawal          95.45       1752.55   \n",
       "3               Yes  Bank Withdrawal          98.50       2514.50   \n",
       "4               Yes  Bank Withdrawal          76.50       2868.15   \n",
       "\n",
       "  Total Refunds Total Extra Data Charges Total Long Distance Charges  \\\n",
       "0          0.00                       20                        0.00   \n",
       "1          0.00                        0                      390.80   \n",
       "2         45.61                        0                      203.94   \n",
       "3         13.43                        0                      494.00   \n",
       "4          0.00                        0                      234.21   \n",
       "\n",
       "  Total Revenue  \n",
       "0         59.65  \n",
       "1       1024.10  \n",
       "2       1910.88  \n",
       "3       2995.07  \n",
       "4       3102.36  \n",
       "\n",
       "[5 rows x 31 columns]"
      ]
     },
     "execution_count": 4,
     "metadata": {},
     "output_type": "execute_result"
    }
   ],
   "source": [
    "Telco_customer_churn_services.head()"
   ]
  },
  {
   "cell_type": "code",
   "execution_count": 5,
   "id": "51521ba9",
   "metadata": {},
   "outputs": [
    {
     "data": {
      "text/html": [
       "<div>\n",
       "<style scoped>\n",
       "    .dataframe tbody tr th:only-of-type {\n",
       "        vertical-align: middle;\n",
       "    }\n",
       "\n",
       "    .dataframe tbody tr th {\n",
       "        vertical-align: top;\n",
       "    }\n",
       "\n",
       "    .dataframe thead th {\n",
       "        text-align: right;\n",
       "    }\n",
       "</style>\n",
       "<table border=\"1\" class=\"dataframe\">\n",
       "  <thead>\n",
       "    <tr style=\"text-align: right;\">\n",
       "      <th></th>\n",
       "      <th>ID</th>\n",
       "      <th>Zip Code</th>\n",
       "      <th>Population</th>\n",
       "    </tr>\n",
       "  </thead>\n",
       "  <tbody>\n",
       "    <tr>\n",
       "      <th>0</th>\n",
       "      <td>1</td>\n",
       "      <td>90001</td>\n",
       "      <td>54492</td>\n",
       "    </tr>\n",
       "    <tr>\n",
       "      <th>1</th>\n",
       "      <td>2</td>\n",
       "      <td>90002</td>\n",
       "      <td>44586</td>\n",
       "    </tr>\n",
       "    <tr>\n",
       "      <th>2</th>\n",
       "      <td>3</td>\n",
       "      <td>90003</td>\n",
       "      <td>58198</td>\n",
       "    </tr>\n",
       "    <tr>\n",
       "      <th>3</th>\n",
       "      <td>4</td>\n",
       "      <td>90004</td>\n",
       "      <td>67852</td>\n",
       "    </tr>\n",
       "    <tr>\n",
       "      <th>4</th>\n",
       "      <td>5</td>\n",
       "      <td>90005</td>\n",
       "      <td>43019</td>\n",
       "    </tr>\n",
       "  </tbody>\n",
       "</table>\n",
       "</div>"
      ],
      "text/plain": [
       "   ID  Zip Code  Population\n",
       "0   1     90001       54492\n",
       "1   2     90002       44586\n",
       "2   3     90003       58198\n",
       "3   4     90004       67852\n",
       "4   5     90005       43019"
      ]
     },
     "execution_count": 5,
     "metadata": {},
     "output_type": "execute_result"
    }
   ],
   "source": [
    "Telco_customer_churn_population.head()"
   ]
  },
  {
   "cell_type": "code",
   "execution_count": 6,
   "id": "e12c0c04",
   "metadata": {},
   "outputs": [
    {
     "data": {
      "text/html": [
       "<div>\n",
       "<style scoped>\n",
       "    .dataframe tbody tr th:only-of-type {\n",
       "        vertical-align: middle;\n",
       "    }\n",
       "\n",
       "    .dataframe tbody tr th {\n",
       "        vertical-align: top;\n",
       "    }\n",
       "\n",
       "    .dataframe thead th {\n",
       "        text-align: right;\n",
       "    }\n",
       "</style>\n",
       "<table border=\"1\" class=\"dataframe\">\n",
       "  <thead>\n",
       "    <tr style=\"text-align: right;\">\n",
       "      <th></th>\n",
       "      <th>Location ID</th>\n",
       "      <th>Customer ID</th>\n",
       "      <th>Count</th>\n",
       "      <th>Country</th>\n",
       "      <th>State</th>\n",
       "      <th>City</th>\n",
       "      <th>Zip Code</th>\n",
       "      <th>Lat Long</th>\n",
       "      <th>Latitude</th>\n",
       "      <th>Longitude</th>\n",
       "    </tr>\n",
       "  </thead>\n",
       "  <tbody>\n",
       "    <tr>\n",
       "      <th>0</th>\n",
       "      <td>OXCZEW7397</td>\n",
       "      <td>8779-QRDMV</td>\n",
       "      <td>1</td>\n",
       "      <td>United States</td>\n",
       "      <td>California</td>\n",
       "      <td>Los Angeles</td>\n",
       "      <td>90022</td>\n",
       "      <td>34.02381, -118.156582</td>\n",
       "      <td>34.023810</td>\n",
       "      <td>-118.156582</td>\n",
       "    </tr>\n",
       "    <tr>\n",
       "      <th>1</th>\n",
       "      <td>FCCECI8494</td>\n",
       "      <td>7495-OOKFY</td>\n",
       "      <td>1</td>\n",
       "      <td>United States</td>\n",
       "      <td>California</td>\n",
       "      <td>Los Angeles</td>\n",
       "      <td>90063</td>\n",
       "      <td>34.044271, -118.185237</td>\n",
       "      <td>34.044271</td>\n",
       "      <td>-118.185237</td>\n",
       "    </tr>\n",
       "    <tr>\n",
       "      <th>2</th>\n",
       "      <td>HEHUQY7254</td>\n",
       "      <td>1658-BYGOY</td>\n",
       "      <td>1</td>\n",
       "      <td>United States</td>\n",
       "      <td>California</td>\n",
       "      <td>Los Angeles</td>\n",
       "      <td>90065</td>\n",
       "      <td>34.108833, -118.229715</td>\n",
       "      <td>34.108833</td>\n",
       "      <td>-118.229715</td>\n",
       "    </tr>\n",
       "    <tr>\n",
       "      <th>3</th>\n",
       "      <td>WIUHRF2613</td>\n",
       "      <td>4598-XLKNJ</td>\n",
       "      <td>1</td>\n",
       "      <td>United States</td>\n",
       "      <td>California</td>\n",
       "      <td>Inglewood</td>\n",
       "      <td>90303</td>\n",
       "      <td>33.936291, -118.332639</td>\n",
       "      <td>33.936291</td>\n",
       "      <td>-118.332639</td>\n",
       "    </tr>\n",
       "    <tr>\n",
       "      <th>4</th>\n",
       "      <td>CFEZBF4415</td>\n",
       "      <td>4846-WHAFZ</td>\n",
       "      <td>1</td>\n",
       "      <td>United States</td>\n",
       "      <td>California</td>\n",
       "      <td>Whittier</td>\n",
       "      <td>90602</td>\n",
       "      <td>33.972119, -118.020188</td>\n",
       "      <td>33.972119</td>\n",
       "      <td>-118.020188</td>\n",
       "    </tr>\n",
       "  </tbody>\n",
       "</table>\n",
       "</div>"
      ],
      "text/plain": [
       "  Location ID Customer ID  Count        Country       State         City  \\\n",
       "0  OXCZEW7397  8779-QRDMV      1  United States  California  Los Angeles   \n",
       "1  FCCECI8494  7495-OOKFY      1  United States  California  Los Angeles   \n",
       "2  HEHUQY7254  1658-BYGOY      1  United States  California  Los Angeles   \n",
       "3  WIUHRF2613  4598-XLKNJ      1  United States  California    Inglewood   \n",
       "4  CFEZBF4415  4846-WHAFZ      1  United States  California     Whittier   \n",
       "\n",
       "   Zip Code                Lat Long   Latitude   Longitude  \n",
       "0     90022   34.02381, -118.156582  34.023810 -118.156582  \n",
       "1     90063  34.044271, -118.185237  34.044271 -118.185237  \n",
       "2     90065  34.108833, -118.229715  34.108833 -118.229715  \n",
       "3     90303  33.936291, -118.332639  33.936291 -118.332639  \n",
       "4     90602  33.972119, -118.020188  33.972119 -118.020188  "
      ]
     },
     "execution_count": 6,
     "metadata": {},
     "output_type": "execute_result"
    }
   ],
   "source": [
    "Telco_customer_churn_location.head()"
   ]
  },
  {
   "cell_type": "code",
   "execution_count": 7,
   "id": "a9a258f7",
   "metadata": {},
   "outputs": [
    {
     "data": {
      "text/html": [
       "<div>\n",
       "<style scoped>\n",
       "    .dataframe tbody tr th:only-of-type {\n",
       "        vertical-align: middle;\n",
       "    }\n",
       "\n",
       "    .dataframe tbody tr th {\n",
       "        vertical-align: top;\n",
       "    }\n",
       "\n",
       "    .dataframe thead th {\n",
       "        text-align: right;\n",
       "    }\n",
       "</style>\n",
       "<table border=\"1\" class=\"dataframe\">\n",
       "  <thead>\n",
       "    <tr style=\"text-align: right;\">\n",
       "      <th></th>\n",
       "      <th>Customer ID</th>\n",
       "      <th>Count</th>\n",
       "      <th>Gender</th>\n",
       "      <th>Age</th>\n",
       "      <th>Under 30</th>\n",
       "      <th>Senior Citizen</th>\n",
       "      <th>Married</th>\n",
       "      <th>Dependents</th>\n",
       "      <th>Number of Dependents</th>\n",
       "    </tr>\n",
       "  </thead>\n",
       "  <tbody>\n",
       "    <tr>\n",
       "      <th>0</th>\n",
       "      <td>8779-QRDMV</td>\n",
       "      <td>1</td>\n",
       "      <td>Male</td>\n",
       "      <td>78</td>\n",
       "      <td>No</td>\n",
       "      <td>Yes</td>\n",
       "      <td>No</td>\n",
       "      <td>No</td>\n",
       "      <td>0</td>\n",
       "    </tr>\n",
       "    <tr>\n",
       "      <th>1</th>\n",
       "      <td>7495-OOKFY</td>\n",
       "      <td>1</td>\n",
       "      <td>Female</td>\n",
       "      <td>74</td>\n",
       "      <td>No</td>\n",
       "      <td>Yes</td>\n",
       "      <td>Yes</td>\n",
       "      <td>Yes</td>\n",
       "      <td>1</td>\n",
       "    </tr>\n",
       "    <tr>\n",
       "      <th>2</th>\n",
       "      <td>1658-BYGOY</td>\n",
       "      <td>1</td>\n",
       "      <td>Male</td>\n",
       "      <td>71</td>\n",
       "      <td>No</td>\n",
       "      <td>Yes</td>\n",
       "      <td>No</td>\n",
       "      <td>Yes</td>\n",
       "      <td>3</td>\n",
       "    </tr>\n",
       "    <tr>\n",
       "      <th>3</th>\n",
       "      <td>4598-XLKNJ</td>\n",
       "      <td>1</td>\n",
       "      <td>Female</td>\n",
       "      <td>78</td>\n",
       "      <td>No</td>\n",
       "      <td>Yes</td>\n",
       "      <td>Yes</td>\n",
       "      <td>Yes</td>\n",
       "      <td>1</td>\n",
       "    </tr>\n",
       "    <tr>\n",
       "      <th>4</th>\n",
       "      <td>4846-WHAFZ</td>\n",
       "      <td>1</td>\n",
       "      <td>Female</td>\n",
       "      <td>80</td>\n",
       "      <td>No</td>\n",
       "      <td>Yes</td>\n",
       "      <td>Yes</td>\n",
       "      <td>Yes</td>\n",
       "      <td>1</td>\n",
       "    </tr>\n",
       "  </tbody>\n",
       "</table>\n",
       "</div>"
      ],
      "text/plain": [
       "  Customer ID  Count  Gender  Age Under 30 Senior Citizen Married Dependents  \\\n",
       "0  8779-QRDMV      1    Male   78       No            Yes      No         No   \n",
       "1  7495-OOKFY      1  Female   74       No            Yes     Yes        Yes   \n",
       "2  1658-BYGOY      1    Male   71       No            Yes      No        Yes   \n",
       "3  4598-XLKNJ      1  Female   78       No            Yes     Yes        Yes   \n",
       "4  4846-WHAFZ      1  Female   80       No            Yes     Yes        Yes   \n",
       "\n",
       "   Number of Dependents  \n",
       "0                     0  \n",
       "1                     1  \n",
       "2                     3  \n",
       "3                     1  \n",
       "4                     1  "
      ]
     },
     "execution_count": 7,
     "metadata": {},
     "output_type": "execute_result"
    }
   ],
   "source": [
    "Telco_customer_churn_demographics.head()"
   ]
  },
  {
   "cell_type": "markdown",
   "id": "9fc65a25",
   "metadata": {},
   "source": [
    "## Data Wrangling"
   ]
  },
  {
   "cell_type": "markdown",
   "id": "ad8b0270",
   "metadata": {},
   "source": [
    "### Merge Data"
   ]
  },
  {
   "cell_type": "code",
   "execution_count": 8,
   "id": "19cfe10a",
   "metadata": {},
   "outputs": [],
   "source": [
    "df_merged = pd.merge(Telco_customer_churn_status.drop(columns=['Status ID','Count', 'Quarter']),\n",
    "                     Telco_customer_churn_services.drop(columns=['Service ID','Count', 'Quarter']), \n",
    "                     on=\"Customer ID\", how=\"inner\")"
   ]
  },
  {
   "cell_type": "code",
   "execution_count": 9,
   "id": "98d9adca",
   "metadata": {},
   "outputs": [],
   "source": [
    "df_merged_loc = pd.merge(df_merged, \n",
    "                         Telco_customer_churn_location.drop(columns=['Location ID','Count','Lat Long', 'Country','State']),\n",
    "                         on=\"Customer ID\", how=\"inner\")\n",
    "                         "
   ]
  },
  {
   "cell_type": "code",
   "execution_count": 10,
   "id": "fca35011",
   "metadata": {},
   "outputs": [],
   "source": [
    "df_merged_demo = pd.merge(df_merged_loc,\n",
    "                          Telco_customer_churn_demographics.drop(columns=['Count','Under 30','Senior Citizen']),\n",
    "                          on=\"Customer ID\", how=\"inner\")"
   ]
  },
  {
   "cell_type": "code",
   "execution_count": 11,
   "id": "c0f6c33d",
   "metadata": {},
   "outputs": [],
   "source": [
    "df = pd.merge(df_merged_demo,\n",
    "              Telco_customer_churn_population.drop(columns=['ID']),\n",
    "              on=\"Zip Code\", how=\"left\")"
   ]
  },
  {
   "cell_type": "code",
   "execution_count": 12,
   "id": "01eb82cb",
   "metadata": {},
   "outputs": [
    {
     "name": "stdout",
     "output_type": "stream",
     "text": [
      "<class 'pandas.core.frame.DataFrame'>\n",
      "RangeIndex: 7043 entries, 0 to 7042\n",
      "Data columns (total 46 columns):\n",
      " #   Column                             Non-Null Count  Dtype  \n",
      "---  ------                             --------------  -----  \n",
      " 0   Customer ID                        7043 non-null   object \n",
      " 1   Satisfaction Score                 7043 non-null   int64  \n",
      " 2   Customer Status                    7043 non-null   object \n",
      " 3   Churn Label                        7043 non-null   object \n",
      " 4   Churn Value                        7043 non-null   int64  \n",
      " 5   Churn Score                        7043 non-null   int64  \n",
      " 6   CLTV                               7043 non-null   int64  \n",
      " 7   Churn Category                     1869 non-null   object \n",
      " 8   Churn Reason                       1869 non-null   object \n",
      " 9   Referred a Friend                  7043 non-null   object \n",
      " 10  Number of Referrals                7043 non-null   int64  \n",
      " 11  Tenure in Months                   7043 non-null   int64  \n",
      " 12  Offer                              3166 non-null   object \n",
      " 13  Phone Service                      7043 non-null   object \n",
      " 14  Avg Monthly Long Distance Charges  7043 non-null   float64\n",
      " 15  Multiple Lines                     7043 non-null   object \n",
      " 16  Internet Service                   7043 non-null   object \n",
      " 17  Internet Type                      5517 non-null   object \n",
      " 18  Avg Monthly GB Download            7043 non-null   int64  \n",
      " 19  Online Security                    7043 non-null   object \n",
      " 20  Online Backup                      7043 non-null   object \n",
      " 21  Device Protection Plan             7043 non-null   object \n",
      " 22  Premium Tech Support               7043 non-null   object \n",
      " 23  Streaming TV                       7043 non-null   object \n",
      " 24  Streaming Movies                   7043 non-null   object \n",
      " 25  Streaming Music                    7043 non-null   object \n",
      " 26  Unlimited Data                     7043 non-null   object \n",
      " 27  Contract                           7043 non-null   object \n",
      " 28  Paperless Billing                  7043 non-null   object \n",
      " 29  Payment Method                     7043 non-null   object \n",
      " 30  Monthly Charge                     7043 non-null   float64\n",
      " 31  Total Charges                      7043 non-null   float64\n",
      " 32  Total Refunds                      7043 non-null   float64\n",
      " 33  Total Extra Data Charges           7043 non-null   int64  \n",
      " 34  Total Long Distance Charges        7043 non-null   float64\n",
      " 35  Total Revenue                      7043 non-null   float64\n",
      " 36  City                               7043 non-null   object \n",
      " 37  Zip Code                           7043 non-null   int64  \n",
      " 38  Latitude                           7043 non-null   float64\n",
      " 39  Longitude                          7043 non-null   float64\n",
      " 40  Gender                             7043 non-null   object \n",
      " 41  Age                                7043 non-null   int64  \n",
      " 42  Married                            7043 non-null   object \n",
      " 43  Dependents                         7043 non-null   object \n",
      " 44  Number of Dependents               7043 non-null   int64  \n",
      " 45  Population                         7043 non-null   int64  \n",
      "dtypes: float64(8), int64(12), object(26)\n",
      "memory usage: 2.5+ MB\n"
     ]
    }
   ],
   "source": [
    "df.info()"
   ]
  },
  {
   "cell_type": "code",
   "execution_count": 13,
   "id": "b91c78bd",
   "metadata": {},
   "outputs": [],
   "source": [
    "df.to_csv('df.csv',index=False)"
   ]
  },
  {
   "cell_type": "markdown",
   "id": "45cdbfff",
   "metadata": {},
   "source": [
    "### Examine Missing Values"
   ]
  },
  {
   "cell_type": "markdown",
   "id": "c2c45f1e",
   "metadata": {},
   "source": [
    "#### Churn Category and Churn Reason"
   ]
  },
  {
   "cell_type": "code",
   "execution_count": 14,
   "id": "4ea6076f",
   "metadata": {},
   "outputs": [
    {
     "data": {
      "text/plain": [
       "Customer Status\n",
       "Stayed     4720\n",
       "Churned    1869\n",
       "Joined      454\n",
       "Name: count, dtype: int64"
      ]
     },
     "execution_count": 14,
     "metadata": {},
     "output_type": "execute_result"
    }
   ],
   "source": [
    "df['Customer Status'].value_counts()"
   ]
  },
  {
   "cell_type": "markdown",
   "id": "a7abe4fa",
   "metadata": {},
   "source": [
    "Out of the 7043 customers, 1869 churned, 4720 stayed, and 454 customers joined recently."
   ]
  },
  {
   "cell_type": "code",
   "execution_count": 15,
   "id": "63da0245",
   "metadata": {},
   "outputs": [
    {
     "data": {
      "text/plain": [
       "array(['Competitor', 'Dissatisfaction', 'Price', 'Other', 'Attitude', nan],\n",
       "      dtype=object)"
      ]
     },
     "execution_count": 15,
     "metadata": {},
     "output_type": "execute_result"
    }
   ],
   "source": [
    "df['Churn Category'].unique()"
   ]
  },
  {
   "cell_type": "code",
   "execution_count": 16,
   "id": "6c204d91",
   "metadata": {
    "scrolled": true
   },
   "outputs": [
    {
     "data": {
      "text/plain": [
       "array(['Competitor offered more data', 'Competitor made better offer',\n",
       "       'Limited range of services', 'Extra data charges',\n",
       "       'Competitor had better devices', \"Don't know\",\n",
       "       'Service dissatisfaction',\n",
       "       'Lack of affordable download/upload speed',\n",
       "       'Product dissatisfaction', 'Long distance charges',\n",
       "       'Poor expertise of online support', 'Attitude of support person',\n",
       "       'Network reliability', 'Competitor offered higher download speeds',\n",
       "       'Moved', 'Price too high', 'Attitude of service provider',\n",
       "       'Poor expertise of phone support', 'Deceased', nan,\n",
       "       'Lack of self-service on Website'], dtype=object)"
      ]
     },
     "execution_count": 16,
     "metadata": {},
     "output_type": "execute_result"
    }
   ],
   "source": [
    "df['Churn Reason'].unique()"
   ]
  },
  {
   "cell_type": "markdown",
   "id": "9afb0624",
   "metadata": {},
   "source": [
    "The Churn Category and Churn Reason values are only available for customers who have churned. Otherwise, they are NaN which explains why there are only 1869 values in those columns."
   ]
  },
  {
   "cell_type": "markdown",
   "id": "873dc73e",
   "metadata": {},
   "source": [
    "#### Offer"
   ]
  },
  {
   "cell_type": "code",
   "execution_count": 17,
   "id": "ffe7e595",
   "metadata": {},
   "outputs": [
    {
     "data": {
      "text/plain": [
       "array([nan, 'Offer E', 'Offer D', 'Offer C', 'Offer B', 'Offer A'],\n",
       "      dtype=object)"
      ]
     },
     "execution_count": 17,
     "metadata": {},
     "output_type": "execute_result"
    }
   ],
   "source": [
    "df['Offer'].unique()"
   ]
  },
  {
   "cell_type": "markdown",
   "id": "0e5dff37",
   "metadata": {},
   "source": [
    "For applicable customers, the Offer field indicates the most recent marketing offer that was accepted. The following values are possible: 'None', 'Offer A', 'Offer B', 'Offer C', 'Offer D', and 'Offer E'. If no offer has been accepted, the field will display 'None'. In case of missing data, please fill it with 'No Offer'."
   ]
  },
  {
   "cell_type": "code",
   "execution_count": 18,
   "id": "2da18331",
   "metadata": {},
   "outputs": [],
   "source": [
    "df['Offer'] = df['Offer'].fillna('No Offer')"
   ]
  },
  {
   "cell_type": "markdown",
   "id": "ed72aa5d",
   "metadata": {},
   "source": [
    "#### Internet Type"
   ]
  },
  {
   "cell_type": "markdown",
   "id": "65ef4772",
   "metadata": {},
   "source": [
    "Company offers two types of services: phone and internet. Create a new column for subscription type, which indicates if customers subscribe to phone service only, internet service only, or both.\n"
   ]
  },
  {
   "cell_type": "code",
   "execution_count": 19,
   "id": "36b48735",
   "metadata": {},
   "outputs": [],
   "source": [
    "df['Subscription Type'] = 'Both Services'\n",
    "df.loc[df['Phone Service'] == 'No', 'Subscription Type'] = 'Internet Only'\n",
    "df.loc[df['Internet Service'] == 'No', 'Subscription Type'] = 'Phone Only'"
   ]
  },
  {
   "cell_type": "code",
   "execution_count": 20,
   "id": "368fc8b8",
   "metadata": {},
   "outputs": [
    {
     "data": {
      "text/plain": [
       "Subscription Type\n",
       "Both Services    4835\n",
       "Phone Only       1526\n",
       "Internet Only     682\n",
       "Name: count, dtype: int64"
      ]
     },
     "execution_count": 20,
     "metadata": {},
     "output_type": "execute_result"
    }
   ],
   "source": [
    "df['Subscription Type'].value_counts()"
   ]
  },
  {
   "cell_type": "code",
   "execution_count": 21,
   "id": "2582c75d",
   "metadata": {},
   "outputs": [
    {
     "data": {
      "text/plain": [
       "array(['DSL', 'Fiber Optic', 'Cable', nan], dtype=object)"
      ]
     },
     "execution_count": 21,
     "metadata": {},
     "output_type": "execute_result"
    }
   ],
   "source": [
    "df['Internet Type'].unique()"
   ]
  },
  {
   "cell_type": "markdown",
   "id": "d3ab04a2",
   "metadata": {},
   "source": [
    "The missing value for Internet Type can be explained by the total number of internet subscribers.\n",
    "\n"
   ]
  },
  {
   "cell_type": "code",
   "execution_count": 22,
   "id": "a4cd480a",
   "metadata": {},
   "outputs": [],
   "source": [
    "df.to_csv('df.csv',index=False)"
   ]
  },
  {
   "cell_type": "code",
   "execution_count": null,
   "id": "7d31638b",
   "metadata": {},
   "outputs": [],
   "source": []
  }
 ],
 "metadata": {
  "kernelspec": {
   "display_name": "Python 3 (ipykernel)",
   "language": "python",
   "name": "python3"
  },
  "language_info": {
   "codemirror_mode": {
    "name": "ipython",
    "version": 3
   },
   "file_extension": ".py",
   "mimetype": "text/x-python",
   "name": "python",
   "nbconvert_exporter": "python",
   "pygments_lexer": "ipython3",
   "version": "3.11.5"
  }
 },
 "nbformat": 4,
 "nbformat_minor": 5
}
